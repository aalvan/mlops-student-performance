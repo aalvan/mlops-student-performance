{
 "cells": [
  {
   "cell_type": "code",
   "execution_count": 8,
   "metadata": {},
   "outputs": [
    {
     "name": "stdout",
     "output_type": "stream",
     "text": [
      "/workspaces/mlops-student-performance\n"
     ]
    },
    {
     "name": "stderr",
     "output_type": "stream",
     "text": [
      "/home/codespace/.local/share/virtualenvs/mlops-student-performance-Zsm4y_dL/lib/python3.12/site-packages/IPython/core/magics/osm.py:417: UserWarning: This is now an optional IPython functionality, setting dhist requires you to install the `pickleshare` library.\n",
      "  self.shell.db['dhist'] = compress_dhist(dhist)[-100:]\n"
     ]
    }
   ],
   "source": [
    "%cd .."
   ]
  },
  {
   "cell_type": "code",
   "execution_count": 13,
   "metadata": {},
   "outputs": [],
   "source": [
    "import mlflow\n",
    "from mlflow import MlflowClient\n",
    "\n",
    "import pandas as pd\n",
    "from sklearn.preprocessing import OrdinalEncoder\n",
    "\n",
    "from src.web_service.models.features import Features"
   ]
  },
  {
   "cell_type": "code",
   "execution_count": 2,
   "metadata": {},
   "outputs": [],
   "source": [
    "EXPERIMENT = 'student_performance'\n",
    "TRACKING_SERVER_HOST = \"localhost\"\n",
    "mlflow.set_tracking_uri(f\"http://{TRACKING_SERVER_HOST}:5000\")\n",
    "mlflow.set_experiment(EXPERIMENT)\n",
    "MLFLOW_TRACKING_URI = mlflow.get_tracking_uri()"
   ]
  },
  {
   "cell_type": "code",
   "execution_count": 3,
   "metadata": {},
   "outputs": [
    {
     "data": {
      "text/plain": [
       "<ModelVersion: aliases=['best'], creation_timestamp=1728359853673, current_stage='None', description='', last_updated_timestamp=1728359853673, name='student-performance-predictor', run_id='f120b50c04ea4edf9d37ecef1e53e243', run_link='', source='mlflow-artifacts:/1/f120b50c04ea4edf9d37ecef1e53e243/artifacts/model', status='READY', status_message='', tags={}, user_id='', version='5'>"
      ]
     },
     "execution_count": 3,
     "metadata": {},
     "output_type": "execute_result"
    }
   ],
   "source": [
    "client = MlflowClient(MLFLOW_TRACKING_URI)\n",
    "\n",
    "model_name = \"student-performance-predictor\"\n",
    "model_alias = 'best'\n",
    "\n",
    "client.get_model_version_by_alias(model_name, model_alias)"
   ]
  },
  {
   "cell_type": "code",
   "execution_count": 4,
   "metadata": {},
   "outputs": [
    {
     "name": "stderr",
     "output_type": "stream",
     "text": [
      "/home/codespace/.local/share/virtualenvs/mlops-student-performance-Zsm4y_dL/lib/python3.12/site-packages/tqdm/auto.py:21: TqdmWarning: IProgress not found. Please update jupyter and ipywidgets. See https://ipywidgets.readthedocs.io/en/stable/user_install.html\n",
      "  from .autonotebook import tqdm as notebook_tqdm\n",
      "Downloading artifacts:  14%|█▍        | 1/7 [00:00<00:00, 50.21it/s]"
     ]
    },
    {
     "name": "stderr",
     "output_type": "stream",
     "text": [
      "Downloading artifacts: 100%|██████████| 7/7 [00:04<00:00,  1.68it/s]\n",
      "2024/10/08 13:35:07 WARNING mlflow.utils.requirements_utils: Detected one or more mismatches between the model's dependencies and the current Python environment:\n",
      " - numpy (current: 2.1.2, required: numpy==1.26.4)\n",
      "To fix the mismatches, call `mlflow.pyfunc.get_model_dependencies(model_uri)` to fetch the model's environment and install dependencies using the resulting environment file.\n"
     ]
    }
   ],
   "source": [
    "model_version_info = client.get_model_version_by_alias(model_name, model_alias)\n",
    "model_version = model_version_info.version\n",
    "RUN_ID = model_version_info.run_id\n",
    "\n",
    "\n",
    "model_uri = f\"models:/{model_name}/{model_version}\"\n",
    "model = mlflow.pyfunc.load_model(model_uri)"
   ]
  },
  {
   "cell_type": "code",
   "execution_count": 5,
   "metadata": {},
   "outputs": [
    {
     "data": {
      "text/plain": [
       "'f120b50c04ea4edf9d37ecef1e53e243'"
      ]
     },
     "execution_count": 5,
     "metadata": {},
     "output_type": "execute_result"
    }
   ],
   "source": [
    "RUN_ID"
   ]
  },
  {
   "cell_type": "code",
   "execution_count": 29,
   "metadata": {},
   "outputs": [
    {
     "data": {
      "text/html": [
       "<div>\n",
       "<style scoped>\n",
       "    .dataframe tbody tr th:only-of-type {\n",
       "        vertical-align: middle;\n",
       "    }\n",
       "\n",
       "    .dataframe tbody tr th {\n",
       "        vertical-align: top;\n",
       "    }\n",
       "\n",
       "    .dataframe thead th {\n",
       "        text-align: right;\n",
       "    }\n",
       "</style>\n",
       "<table border=\"1\" class=\"dataframe\">\n",
       "  <thead>\n",
       "    <tr style=\"text-align: right;\">\n",
       "      <th></th>\n",
       "      <th>Hours_Studied</th>\n",
       "      <th>Attendance</th>\n",
       "      <th>Parental_Involvement</th>\n",
       "      <th>Access_to_Resources</th>\n",
       "      <th>Extracurricular_Activities</th>\n",
       "      <th>Sleep_Hours</th>\n",
       "      <th>Previous_Scores</th>\n",
       "      <th>Motivation_Level</th>\n",
       "      <th>Internet_Access</th>\n",
       "      <th>Tutoring_Sessions</th>\n",
       "      <th>Family_Income</th>\n",
       "      <th>Teacher_Quality</th>\n",
       "      <th>School_Type</th>\n",
       "      <th>Peer_Influence</th>\n",
       "      <th>Physical_Activity</th>\n",
       "      <th>Learning_Disabilities</th>\n",
       "      <th>Parental_Education_Level</th>\n",
       "      <th>Distance_from_Home</th>\n",
       "      <th>Gender</th>\n",
       "    </tr>\n",
       "  </thead>\n",
       "  <tbody>\n",
       "    <tr>\n",
       "      <th>0</th>\n",
       "      <td>10.5</td>\n",
       "      <td>95</td>\n",
       "      <td>High</td>\n",
       "      <td>Medium</td>\n",
       "      <td>Yes</td>\n",
       "      <td>7.5</td>\n",
       "      <td>85.5</td>\n",
       "      <td>Medium</td>\n",
       "      <td>Yes</td>\n",
       "      <td>2</td>\n",
       "      <td>Medium</td>\n",
       "      <td>High</td>\n",
       "      <td>Public</td>\n",
       "      <td>Positive</td>\n",
       "      <td>3.5</td>\n",
       "      <td>No</td>\n",
       "      <td>College</td>\n",
       "      <td>Moderate</td>\n",
       "      <td>Female</td>\n",
       "    </tr>\n",
       "  </tbody>\n",
       "</table>\n",
       "</div>"
      ],
      "text/plain": [
       "   Hours_Studied  Attendance Parental_Involvement Access_to_Resources  \\\n",
       "0           10.5          95                 High              Medium   \n",
       "\n",
       "  Extracurricular_Activities  Sleep_Hours  Previous_Scores Motivation_Level  \\\n",
       "0                        Yes          7.5             85.5           Medium   \n",
       "\n",
       "  Internet_Access  Tutoring_Sessions Family_Income Teacher_Quality  \\\n",
       "0             Yes                  2        Medium            High   \n",
       "\n",
       "  School_Type Peer_Influence  Physical_Activity Learning_Disabilities  \\\n",
       "0      Public       Positive                3.5                    No   \n",
       "\n",
       "  Parental_Education_Level Distance_from_Home  Gender  \n",
       "0                  College           Moderate  Female  "
      ]
     },
     "execution_count": 29,
     "metadata": {},
     "output_type": "execute_result"
    }
   ],
   "source": [
    "features = {\n",
    "    \"Hours_Studied\": 10.5,\n",
    "    \"Attendance\": 95,\n",
    "    \"Parental_Involvement\": \"High\",\n",
    "    \"Access_to_Resources\": \"Medium\",\n",
    "    \"Extracurricular_Activities\": \"Yes\",\n",
    "    \"Sleep_Hours\": 7.5,\n",
    "    \"Previous_Scores\": 85.5,\n",
    "    \"Motivation_Level\": \"Medium\",\n",
    "    \"Internet_Access\": \"Yes\",\n",
    "    \"Tutoring_Sessions\": 2,\n",
    "    \"Family_Income\": \"Medium\",\n",
    "    \"Teacher_Quality\": \"High\",\n",
    "    \"School_Type\": \"Public\",\n",
    "    \"Peer_Influence\": \"Positive\",\n",
    "    \"Physical_Activity\": 3.5,\n",
    "    \"Learning_Disabilities\": \"No\",\n",
    "    \"Parental_Education_Level\": \"College\",\n",
    "    \"Distance_from_Home\": \"Moderate\",\n",
    "    \"Gender\": \"Female\"\n",
    "}\n",
    "input_data = pd.DataFrame([features])\n",
    "input_data\n"
   ]
  },
  {
   "cell_type": "code",
   "execution_count": 36,
   "metadata": {},
   "outputs": [
    {
     "name": "stdout",
     "output_type": "stream",
     "text": [
      "<class 'pandas.core.frame.DataFrame'>\n",
      "RangeIndex: 1 entries, 0 to 0\n",
      "Data columns (total 19 columns):\n",
      " #   Column                      Non-Null Count  Dtype  \n",
      "---  ------                      --------------  -----  \n",
      " 0   Hours_Studied               1 non-null      float64\n",
      " 1   Attendance                  1 non-null      int64  \n",
      " 2   Parental_Involvement        1 non-null      object \n",
      " 3   Access_to_Resources         1 non-null      object \n",
      " 4   Extracurricular_Activities  1 non-null      object \n",
      " 5   Sleep_Hours                 1 non-null      float64\n",
      " 6   Previous_Scores             1 non-null      float64\n",
      " 7   Motivation_Level            1 non-null      object \n",
      " 8   Internet_Access             1 non-null      object \n",
      " 9   Tutoring_Sessions           1 non-null      int64  \n",
      " 10  Family_Income               1 non-null      object \n",
      " 11  Teacher_Quality             1 non-null      object \n",
      " 12  School_Type                 1 non-null      object \n",
      " 13  Peer_Influence              1 non-null      object \n",
      " 14  Physical_Activity           1 non-null      float64\n",
      " 15  Learning_Disabilities       1 non-null      object \n",
      " 16  Parental_Education_Level    1 non-null      object \n",
      " 17  Distance_from_Home          1 non-null      object \n",
      " 18  Gender                      1 non-null      object \n",
      "dtypes: float64(4), int64(2), object(13)\n",
      "memory usage: 284.0+ bytes\n"
     ]
    }
   ],
   "source": [
    "cat_cols = input_data.select_dtypes(include=['object', 'category']).columns\n",
    "ord_encoder = OrdinalEncoder()\n",
    "input_data.loc[:, cat_cols] = ord_encoder.fit_transform(input_data[cat_cols])\n",
    "input_data.info()\n"
   ]
  },
  {
   "cell_type": "code",
   "execution_count": 34,
   "metadata": {},
   "outputs": [
    {
     "ename": "MlflowException",
     "evalue": "Failed to enforce schema of data '   Hours_Studied  Attendance Parental_Involvement Access_to_Resources  \\\n0           10.5          95                  0.0                 0.0   \n\n  Extracurricular_Activities  Sleep_Hours  Previous_Scores Motivation_Level  \\\n0                        0.0          7.5             85.5              0.0   \n\n  Internet_Access  Tutoring_Sessions Family_Income Teacher_Quality  \\\n0             0.0                  2           0.0             0.0   \n\n  School_Type Peer_Influence  Physical_Activity Learning_Disabilities  \\\n0         0.0            0.0                3.5                   0.0   \n\n  Parental_Education_Level Distance_from_Home Gender  \n0                      0.0                0.0    0.0  ' with schema '['Hours_Studied': double (required), 'Attendance': double (required), 'Parental_Involvement': double (required), 'Access_to_Resources': double (required), 'Extracurricular_Activities': double (required), 'Sleep_Hours': double (required), 'Previous_Scores': double (required), 'Motivation_Level': double (required), 'Internet_Access': double (required), 'Tutoring_Sessions': double (required), 'Family_Income': double (required), 'Teacher_Quality': double (required), 'School_Type': double (required), 'Peer_Influence': double (required), 'Physical_Activity': double (required), 'Learning_Disabilities': double (required), 'Parental_Education_Level': double (required), 'Distance_from_Home': double (required), 'Gender': double (required)]'. Error: Incompatible input types for column Attendance. Can not safely convert int64 to float64.",
     "output_type": "error",
     "traceback": [
      "\u001b[0;31m---------------------------------------------------------------------------\u001b[0m",
      "\u001b[0;31mMlflowException\u001b[0m                           Traceback (most recent call last)",
      "File \u001b[0;32m~/.local/share/virtualenvs/mlops-student-performance-Zsm4y_dL/lib/python3.12/site-packages/mlflow/pyfunc/__init__.py:667\u001b[0m, in \u001b[0;36m_validate_prediction_input\u001b[0;34m(data, params, input_schema, params_schema, flavor)\u001b[0m\n\u001b[1;32m    666\u001b[0m \u001b[38;5;28;01mtry\u001b[39;00m:\n\u001b[0;32m--> 667\u001b[0m     data \u001b[38;5;241m=\u001b[39m \u001b[43m_enforce_schema\u001b[49m\u001b[43m(\u001b[49m\u001b[43mdata\u001b[49m\u001b[43m,\u001b[49m\u001b[43m \u001b[49m\u001b[43minput_schema\u001b[49m\u001b[43m,\u001b[49m\u001b[43m \u001b[49m\u001b[43mflavor\u001b[49m\u001b[43m)\u001b[49m\n\u001b[1;32m    668\u001b[0m \u001b[38;5;28;01mexcept\u001b[39;00m \u001b[38;5;167;01mException\u001b[39;00m \u001b[38;5;28;01mas\u001b[39;00m e:\n\u001b[1;32m    669\u001b[0m     \u001b[38;5;66;03m# Include error in message for backwards compatibility\u001b[39;00m\n",
      "File \u001b[0;32m~/.local/share/virtualenvs/mlops-student-performance-Zsm4y_dL/lib/python3.12/site-packages/mlflow/models/utils.py:1192\u001b[0m, in \u001b[0;36m_enforce_schema\u001b[0;34m(pf_input, input_schema, flavor)\u001b[0m\n\u001b[1;32m   1189\u001b[0m \u001b[38;5;28;01melse\u001b[39;00m:\n\u001b[1;32m   1190\u001b[0m     \u001b[38;5;66;03m# pf_input must be a pandas Dataframe at this point\u001b[39;00m\n\u001b[1;32m   1191\u001b[0m     \u001b[38;5;28;01mreturn\u001b[39;00m (\n\u001b[0;32m-> 1192\u001b[0m         \u001b[43m_enforce_named_col_schema\u001b[49m\u001b[43m(\u001b[49m\u001b[43mpf_input\u001b[49m\u001b[43m,\u001b[49m\u001b[43m \u001b[49m\u001b[43minput_schema\u001b[49m\u001b[43m)\u001b[49m\n\u001b[1;32m   1193\u001b[0m         \u001b[38;5;28;01mif\u001b[39;00m input_schema\u001b[38;5;241m.\u001b[39mhas_input_names()\n\u001b[1;32m   1194\u001b[0m         \u001b[38;5;28;01melse\u001b[39;00m _enforce_unnamed_col_schema(pf_input, input_schema)\n\u001b[1;32m   1195\u001b[0m     )\n",
      "File \u001b[0;32m~/.local/share/virtualenvs/mlops-student-performance-Zsm4y_dL/lib/python3.12/site-packages/mlflow/models/utils.py:899\u001b[0m, in \u001b[0;36m_enforce_named_col_schema\u001b[0;34m(pf_input, input_schema)\u001b[0m\n\u001b[1;32m    898\u001b[0m \u001b[38;5;28;01mif\u001b[39;00m \u001b[38;5;28misinstance\u001b[39m(input_type, DataType):\n\u001b[0;32m--> 899\u001b[0m     new_pf_input[name] \u001b[38;5;241m=\u001b[39m \u001b[43m_enforce_mlflow_datatype\u001b[49m\u001b[43m(\u001b[49m\u001b[43mname\u001b[49m\u001b[43m,\u001b[49m\u001b[43m \u001b[49m\u001b[43mpf_input\u001b[49m\u001b[43m[\u001b[49m\u001b[43mname\u001b[49m\u001b[43m]\u001b[49m\u001b[43m,\u001b[49m\u001b[43m \u001b[49m\u001b[43minput_type\u001b[49m\u001b[43m)\u001b[49m\n\u001b[1;32m    900\u001b[0m \u001b[38;5;66;03m# If the input_type is objects/arrays/maps, we assume pf_input must be a pandas DataFrame.\u001b[39;00m\n\u001b[1;32m    901\u001b[0m \u001b[38;5;66;03m# Otherwise, the schema is not valid.\u001b[39;00m\n\u001b[1;32m    902\u001b[0m \u001b[38;5;28;01melse\u001b[39;00m:\n",
      "File \u001b[0;32m~/.local/share/virtualenvs/mlops-student-performance-Zsm4y_dL/lib/python3.12/site-packages/mlflow/models/utils.py:859\u001b[0m, in \u001b[0;36m_enforce_mlflow_datatype\u001b[0;34m(name, values, t)\u001b[0m\n\u001b[1;32m    848\u001b[0m     hint \u001b[38;5;241m=\u001b[39m (\n\u001b[1;32m    849\u001b[0m         \u001b[38;5;124m\"\u001b[39m\u001b[38;5;124m Hint: the type mismatch is likely caused by missing values. \u001b[39m\u001b[38;5;124m\"\u001b[39m\n\u001b[1;32m    850\u001b[0m         \u001b[38;5;124m\"\u001b[39m\u001b[38;5;124mInteger columns in python can not represent missing values and are therefore \u001b[39m\u001b[38;5;124m\"\u001b[39m\n\u001b[0;32m   (...)\u001b[0m\n\u001b[1;32m    856\u001b[0m         \u001b[38;5;124m\"\u001b[39m\u001b[38;5;124mhandling-integers-with-missing-values>`_ for more details.\u001b[39m\u001b[38;5;124m\"\u001b[39m\n\u001b[1;32m    857\u001b[0m     )\n\u001b[0;32m--> 859\u001b[0m \u001b[38;5;28;01mraise\u001b[39;00m MlflowException(\n\u001b[1;32m    860\u001b[0m     \u001b[38;5;124mf\u001b[39m\u001b[38;5;124m\"\u001b[39m\u001b[38;5;124mIncompatible input types for column \u001b[39m\u001b[38;5;132;01m{\u001b[39;00mname\u001b[38;5;132;01m}\u001b[39;00m\u001b[38;5;124m. \u001b[39m\u001b[38;5;124m\"\u001b[39m\n\u001b[1;32m    861\u001b[0m     \u001b[38;5;124mf\u001b[39m\u001b[38;5;124m\"\u001b[39m\u001b[38;5;124mCan not safely convert \u001b[39m\u001b[38;5;132;01m{\u001b[39;00mvalues\u001b[38;5;241m.\u001b[39mdtype\u001b[38;5;132;01m}\u001b[39;00m\u001b[38;5;124m to \u001b[39m\u001b[38;5;132;01m{\u001b[39;00mnumpy_type\u001b[38;5;132;01m}\u001b[39;00m\u001b[38;5;124m.\u001b[39m\u001b[38;5;132;01m{\u001b[39;00mhint\u001b[38;5;132;01m}\u001b[39;00m\u001b[38;5;124m\"\u001b[39m\n\u001b[1;32m    862\u001b[0m )\n",
      "\u001b[0;31mMlflowException\u001b[0m: Incompatible input types for column Attendance. Can not safely convert int64 to float64.",
      "\nDuring handling of the above exception, another exception occurred:\n",
      "\u001b[0;31mMlflowException\u001b[0m                           Traceback (most recent call last)",
      "Cell \u001b[0;32mIn[34], line 1\u001b[0m\n\u001b[0;32m----> 1\u001b[0m preds \u001b[38;5;241m=\u001b[39m \u001b[43mmodel\u001b[49m\u001b[38;5;241;43m.\u001b[39;49m\u001b[43mpredict\u001b[49m\u001b[43m(\u001b[49m\u001b[43minput_data\u001b[49m\u001b[43m)\u001b[49m\n\u001b[1;32m      3\u001b[0m \u001b[38;5;66;03m#float(preds[0])\u001b[39;00m\n",
      "File \u001b[0;32m~/.local/share/virtualenvs/mlops-student-performance-Zsm4y_dL/lib/python3.12/site-packages/mlflow/pyfunc/__init__.py:754\u001b[0m, in \u001b[0;36mPyFuncModel.predict\u001b[0;34m(self, data, params)\u001b[0m\n\u001b[1;32m    752\u001b[0m \u001b[38;5;28;01mwith\u001b[39;00m \u001b[38;5;28mself\u001b[39m\u001b[38;5;241m.\u001b[39m_try_get_or_generate_prediction_context() \u001b[38;5;28;01mas\u001b[39;00m context:\n\u001b[1;32m    753\u001b[0m     \u001b[38;5;28mself\u001b[39m\u001b[38;5;241m.\u001b[39m_update_dependencies_schemas_in_prediction_context(context)\n\u001b[0;32m--> 754\u001b[0m     \u001b[38;5;28;01mreturn\u001b[39;00m \u001b[38;5;28;43mself\u001b[39;49m\u001b[38;5;241;43m.\u001b[39;49m\u001b[43m_predict\u001b[49m\u001b[43m(\u001b[49m\u001b[43mdata\u001b[49m\u001b[43m,\u001b[49m\u001b[43m \u001b[49m\u001b[43mparams\u001b[49m\u001b[43m)\u001b[49m\n",
      "File \u001b[0;32m~/.local/share/virtualenvs/mlops-student-performance-Zsm4y_dL/lib/python3.12/site-packages/mlflow/pyfunc/__init__.py:787\u001b[0m, in \u001b[0;36mPyFuncModel._predict\u001b[0;34m(self, data, params)\u001b[0m\n\u001b[1;32m    785\u001b[0m \u001b[38;5;28mself\u001b[39m\u001b[38;5;241m.\u001b[39minput_schema \u001b[38;5;241m=\u001b[39m \u001b[38;5;28mself\u001b[39m\u001b[38;5;241m.\u001b[39mmetadata\u001b[38;5;241m.\u001b[39mget_input_schema()\n\u001b[1;32m    786\u001b[0m \u001b[38;5;28mself\u001b[39m\u001b[38;5;241m.\u001b[39mparams_schema \u001b[38;5;241m=\u001b[39m \u001b[38;5;28mself\u001b[39m\u001b[38;5;241m.\u001b[39mmetadata\u001b[38;5;241m.\u001b[39mget_params_schema()\n\u001b[0;32m--> 787\u001b[0m data, params \u001b[38;5;241m=\u001b[39m \u001b[43m_validate_prediction_input\u001b[49m\u001b[43m(\u001b[49m\n\u001b[1;32m    788\u001b[0m \u001b[43m    \u001b[49m\u001b[43mdata\u001b[49m\u001b[43m,\u001b[49m\u001b[43m \u001b[49m\u001b[43mparams\u001b[49m\u001b[43m,\u001b[49m\u001b[43m \u001b[49m\u001b[38;5;28;43mself\u001b[39;49m\u001b[38;5;241;43m.\u001b[39;49m\u001b[43minput_schema\u001b[49m\u001b[43m,\u001b[49m\u001b[43m \u001b[49m\u001b[38;5;28;43mself\u001b[39;49m\u001b[38;5;241;43m.\u001b[39;49m\u001b[43mparams_schema\u001b[49m\u001b[43m,\u001b[49m\u001b[43m \u001b[49m\u001b[38;5;28;43mself\u001b[39;49m\u001b[38;5;241;43m.\u001b[39;49m\u001b[43mloader_module\u001b[49m\n\u001b[1;32m    789\u001b[0m \u001b[43m\u001b[49m\u001b[43m)\u001b[49m\n\u001b[1;32m    790\u001b[0m params_arg \u001b[38;5;241m=\u001b[39m inspect\u001b[38;5;241m.\u001b[39msignature(\u001b[38;5;28mself\u001b[39m\u001b[38;5;241m.\u001b[39m_predict_fn)\u001b[38;5;241m.\u001b[39mparameters\u001b[38;5;241m.\u001b[39mget(\u001b[38;5;124m\"\u001b[39m\u001b[38;5;124mparams\u001b[39m\u001b[38;5;124m\"\u001b[39m)\n\u001b[1;32m    791\u001b[0m \u001b[38;5;28;01mif\u001b[39;00m params_arg \u001b[38;5;129;01mand\u001b[39;00m params_arg\u001b[38;5;241m.\u001b[39mkind \u001b[38;5;241m!=\u001b[39m inspect\u001b[38;5;241m.\u001b[39mParameter\u001b[38;5;241m.\u001b[39mVAR_KEYWORD:\n",
      "File \u001b[0;32m~/.local/share/virtualenvs/mlops-student-performance-Zsm4y_dL/lib/python3.12/site-packages/mlflow/pyfunc/__init__.py:670\u001b[0m, in \u001b[0;36m_validate_prediction_input\u001b[0;34m(data, params, input_schema, params_schema, flavor)\u001b[0m\n\u001b[1;32m    667\u001b[0m         data \u001b[38;5;241m=\u001b[39m _enforce_schema(data, input_schema, flavor)\n\u001b[1;32m    668\u001b[0m     \u001b[38;5;28;01mexcept\u001b[39;00m \u001b[38;5;167;01mException\u001b[39;00m \u001b[38;5;28;01mas\u001b[39;00m e:\n\u001b[1;32m    669\u001b[0m         \u001b[38;5;66;03m# Include error in message for backwards compatibility\u001b[39;00m\n\u001b[0;32m--> 670\u001b[0m         \u001b[38;5;28;01mraise\u001b[39;00m MlflowException\u001b[38;5;241m.\u001b[39minvalid_parameter_value(\n\u001b[1;32m    671\u001b[0m             \u001b[38;5;124mf\u001b[39m\u001b[38;5;124m\"\u001b[39m\u001b[38;5;124mFailed to enforce schema of data \u001b[39m\u001b[38;5;124m'\u001b[39m\u001b[38;5;132;01m{\u001b[39;00mdata\u001b[38;5;132;01m}\u001b[39;00m\u001b[38;5;124m'\u001b[39m\u001b[38;5;124m \u001b[39m\u001b[38;5;124m\"\u001b[39m\n\u001b[1;32m    672\u001b[0m             \u001b[38;5;124mf\u001b[39m\u001b[38;5;124m\"\u001b[39m\u001b[38;5;124mwith schema \u001b[39m\u001b[38;5;124m'\u001b[39m\u001b[38;5;132;01m{\u001b[39;00minput_schema\u001b[38;5;132;01m}\u001b[39;00m\u001b[38;5;124m'\u001b[39m\u001b[38;5;124m. \u001b[39m\u001b[38;5;124m\"\u001b[39m\n\u001b[1;32m    673\u001b[0m             \u001b[38;5;124mf\u001b[39m\u001b[38;5;124m\"\u001b[39m\u001b[38;5;124mError: \u001b[39m\u001b[38;5;132;01m{\u001b[39;00me\u001b[38;5;132;01m}\u001b[39;00m\u001b[38;5;124m\"\u001b[39m,\n\u001b[1;32m    674\u001b[0m         )\n\u001b[1;32m    675\u001b[0m params \u001b[38;5;241m=\u001b[39m _enforce_params_schema(params, params_schema)\n\u001b[1;32m    676\u001b[0m \u001b[38;5;28;01mif\u001b[39;00m HAS_PYSPARK \u001b[38;5;129;01mand\u001b[39;00m \u001b[38;5;28misinstance\u001b[39m(data, SparkDataFrame):\n",
      "\u001b[0;31mMlflowException\u001b[0m: Failed to enforce schema of data '   Hours_Studied  Attendance Parental_Involvement Access_to_Resources  \\\n0           10.5          95                  0.0                 0.0   \n\n  Extracurricular_Activities  Sleep_Hours  Previous_Scores Motivation_Level  \\\n0                        0.0          7.5             85.5              0.0   \n\n  Internet_Access  Tutoring_Sessions Family_Income Teacher_Quality  \\\n0             0.0                  2           0.0             0.0   \n\n  School_Type Peer_Influence  Physical_Activity Learning_Disabilities  \\\n0         0.0            0.0                3.5                   0.0   \n\n  Parental_Education_Level Distance_from_Home Gender  \n0                      0.0                0.0    0.0  ' with schema '['Hours_Studied': double (required), 'Attendance': double (required), 'Parental_Involvement': double (required), 'Access_to_Resources': double (required), 'Extracurricular_Activities': double (required), 'Sleep_Hours': double (required), 'Previous_Scores': double (required), 'Motivation_Level': double (required), 'Internet_Access': double (required), 'Tutoring_Sessions': double (required), 'Family_Income': double (required), 'Teacher_Quality': double (required), 'School_Type': double (required), 'Peer_Influence': double (required), 'Physical_Activity': double (required), 'Learning_Disabilities': double (required), 'Parental_Education_Level': double (required), 'Distance_from_Home': double (required), 'Gender': double (required)]'. Error: Incompatible input types for column Attendance. Can not safely convert int64 to float64."
     ]
    }
   ],
   "source": [
    "preds = model.predict(input_data)\n",
    "\n",
    "#float(preds[0])"
   ]
  },
  {
   "cell_type": "code",
   "execution_count": null,
   "metadata": {},
   "outputs": [],
   "source": []
  }
 ],
 "metadata": {
  "kernelspec": {
   "display_name": "mlops-student-performance-Zsm4y_dL",
   "language": "python",
   "name": "python3"
  },
  "language_info": {
   "codemirror_mode": {
    "name": "ipython",
    "version": 3
   },
   "file_extension": ".py",
   "mimetype": "text/x-python",
   "name": "python",
   "nbconvert_exporter": "python",
   "pygments_lexer": "ipython3",
   "version": "3.12.1"
  }
 },
 "nbformat": 4,
 "nbformat_minor": 2
}
