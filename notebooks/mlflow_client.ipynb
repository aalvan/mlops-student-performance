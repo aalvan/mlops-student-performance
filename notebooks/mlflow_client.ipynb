{
 "cells": [
  {
   "cell_type": "code",
   "execution_count": 2,
   "metadata": {},
   "outputs": [],
   "source": [
    "import mlflow\n",
    "from mlflow import MlflowClient\n",
    "\n",
    "EXPERIMENT = 'student_performance'\n",
    "TRACKING_SERVER_HOST = \"localhost\"\n",
    "mlflow.set_tracking_uri(f\"http://{TRACKING_SERVER_HOST}:5000\")\n",
    "mlflow.set_experiment(EXPERIMENT)\n",
    "MLFLOW_TRACKING_URI = mlflow.get_tracking_uri()"
   ]
  },
  {
   "cell_type": "code",
   "execution_count": 3,
   "metadata": {},
   "outputs": [
    {
     "data": {
      "text/plain": [
       "<ModelVersion: aliases=['best'], creation_timestamp=1728357935108, current_stage='None', description='', last_updated_timestamp=1728357935108, name='student-performance-predictor', run_id='69b183aad246467c8decdb5419d3c36c', run_link='', source='mlflow-artifacts:/1/69b183aad246467c8decdb5419d3c36c/artifacts/model', status='READY', status_message='', tags={}, user_id='', version='4'>"
      ]
     },
     "execution_count": 3,
     "metadata": {},
     "output_type": "execute_result"
    }
   ],
   "source": [
    "client = MlflowClient(MLFLOW_TRACKING_URI)\n",
    "\n",
    "model_name = \"student-performance-predictor\"\n",
    "model_alias = 'best'\n",
    "\n",
    "client.get_model_version_by_alias(model_name, model_alias)"
   ]
  },
  {
   "cell_type": "code",
   "execution_count": 6,
   "metadata": {},
   "outputs": [
    {
     "name": "stderr",
     "output_type": "stream",
     "text": [
      "Downloading artifacts:  86%|████████▌ | 6/7 [00:00<00:00, 65.29it/s]"
     ]
    },
    {
     "name": "stderr",
     "output_type": "stream",
     "text": [
      "Downloading artifacts: 100%|██████████| 7/7 [00:00<00:00, 10.05it/s]\n",
      "2024/10/08 03:47:31 WARNING mlflow.utils.requirements_utils: Detected one or more mismatches between the model's dependencies and the current Python environment:\n",
      " - numpy (current: 2.1.2, required: numpy==1.26.4)\n",
      " - pandas (current: 2.2.3, required: pandas==2.1.4)\n",
      "To fix the mismatches, call `mlflow.pyfunc.get_model_dependencies(model_uri)` to fetch the model's environment and install dependencies using the resulting environment file.\n"
     ]
    }
   ],
   "source": [
    "model_version_info = client.get_model_version_by_alias(model_name, model_alias)\n",
    "model_version = model_version_info.version\n",
    "RUN_ID = model_version_info.run_id\n",
    "\n",
    "\n",
    "model_uri = f\"models:/{model_name}/{model_version}\"\n",
    "model = mlflow.pyfunc.load_model(model_uri)"
   ]
  },
  {
   "cell_type": "code",
   "execution_count": 7,
   "metadata": {},
   "outputs": [
    {
     "data": {
      "text/plain": [
       "'69b183aad246467c8decdb5419d3c36c'"
      ]
     },
     "execution_count": 7,
     "metadata": {},
     "output_type": "execute_result"
    }
   ],
   "source": [
    "RUN_ID"
   ]
  },
  {
   "cell_type": "code",
   "execution_count": null,
   "metadata": {},
   "outputs": [],
   "source": []
  }
 ],
 "metadata": {
  "kernelspec": {
   "display_name": "mlops-student-performance-Zsm4y_dL",
   "language": "python",
   "name": "python3"
  },
  "language_info": {
   "codemirror_mode": {
    "name": "ipython",
    "version": 3
   },
   "file_extension": ".py",
   "mimetype": "text/x-python",
   "name": "python",
   "nbconvert_exporter": "python",
   "pygments_lexer": "ipython3",
   "version": "3.12.1"
  }
 },
 "nbformat": 4,
 "nbformat_minor": 2
}
