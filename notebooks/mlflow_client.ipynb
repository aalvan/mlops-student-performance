{
 "cells": [
  {
   "cell_type": "code",
   "execution_count": 8,
   "metadata": {},
   "outputs": [
    {
     "name": "stdout",
     "output_type": "stream",
     "text": [
      "/workspaces/mlops-student-performance\n"
     ]
    },
    {
     "name": "stderr",
     "output_type": "stream",
     "text": [
      "/home/codespace/.local/share/virtualenvs/mlops-student-performance-Zsm4y_dL/lib/python3.12/site-packages/IPython/core/magics/osm.py:417: UserWarning: This is now an optional IPython functionality, setting dhist requires you to install the `pickleshare` library.\n",
      "  self.shell.db['dhist'] = compress_dhist(dhist)[-100:]\n"
     ]
    }
   ],
   "source": [
    "%cd .."
   ]
  },
  {
   "cell_type": "code",
   "execution_count": 13,
   "metadata": {},
   "outputs": [],
   "source": [
    "import mlflow\n",
    "from mlflow import MlflowClient\n",
    "\n",
    "import pandas as pd\n",
    "from sklearn.preprocessing import OrdinalEncoder\n",
    "\n",
    "from src.web_service.models.features import Features"
   ]
  },
  {
   "cell_type": "code",
   "execution_count": 2,
   "metadata": {},
   "outputs": [],
   "source": [
    "EXPERIMENT = 'student_performance'\n",
    "TRACKING_SERVER_HOST = \"localhost\"\n",
    "mlflow.set_tracking_uri(f\"http://{TRACKING_SERVER_HOST}:5000\")\n",
    "mlflow.set_experiment(EXPERIMENT)\n",
    "MLFLOW_TRACKING_URI = mlflow.get_tracking_uri()"
   ]
  },
  {
   "cell_type": "code",
   "execution_count": 3,
   "metadata": {},
   "outputs": [
    {
     "data": {
      "text/plain": [
       "<ModelVersion: aliases=['best'], creation_timestamp=1728359853673, current_stage='None', description='', last_updated_timestamp=1728359853673, name='student-performance-predictor', run_id='f120b50c04ea4edf9d37ecef1e53e243', run_link='', source='mlflow-artifacts:/1/f120b50c04ea4edf9d37ecef1e53e243/artifacts/model', status='READY', status_message='', tags={}, user_id='', version='5'>"
      ]
     },
     "execution_count": 3,
     "metadata": {},
     "output_type": "execute_result"
    }
   ],
   "source": [
    "client = MlflowClient(MLFLOW_TRACKING_URI)\n",
    "\n",
    "model_name = \"student-performance-predictor\"\n",
    "model_alias = 'best'\n",
    "\n",
    "client.get_model_version_by_alias(model_name, model_alias)"
   ]
  },
  {
   "cell_type": "code",
   "execution_count": 4,
   "metadata": {},
   "outputs": [
    {
     "name": "stderr",
     "output_type": "stream",
     "text": [
      "/home/codespace/.local/share/virtualenvs/mlops-student-performance-Zsm4y_dL/lib/python3.12/site-packages/tqdm/auto.py:21: TqdmWarning: IProgress not found. Please update jupyter and ipywidgets. See https://ipywidgets.readthedocs.io/en/stable/user_install.html\n",
      "  from .autonotebook import tqdm as notebook_tqdm\n",
      "Downloading artifacts:  14%|█▍        | 1/7 [00:00<00:00, 50.21it/s]"
     ]
    },
    {
     "name": "stderr",
     "output_type": "stream",
     "text": [
      "Downloading artifacts: 100%|██████████| 7/7 [00:04<00:00,  1.68it/s]\n",
      "2024/10/08 13:35:07 WARNING mlflow.utils.requirements_utils: Detected one or more mismatches between the model's dependencies and the current Python environment:\n",
      " - numpy (current: 2.1.2, required: numpy==1.26.4)\n",
      "To fix the mismatches, call `mlflow.pyfunc.get_model_dependencies(model_uri)` to fetch the model's environment and install dependencies using the resulting environment file.\n"
     ]
    }
   ],
   "source": [
    "model_version_info = client.get_model_version_by_alias(model_name, model_alias)\n",
    "model_version = model_version_info.version\n",
    "RUN_ID = model_version_info.run_id\n",
    "\n",
    "\n",
    "model_uri = f\"models:/{model_name}/{model_version}\"\n",
    "model = mlflow.pyfunc.load_model(model_uri)"
   ]
  },
  {
   "cell_type": "code",
   "execution_count": 5,
   "metadata": {},
   "outputs": [
    {
     "data": {
      "text/plain": [
       "'f120b50c04ea4edf9d37ecef1e53e243'"
      ]
     },
     "execution_count": 5,
     "metadata": {},
     "output_type": "execute_result"
    }
   ],
   "source": [
    "RUN_ID"
   ]
  },
  {
   "cell_type": "code",
   "execution_count": 29,
   "metadata": {},
   "outputs": [
    {
     "data": {
      "text/html": [
       "<div>\n",
       "<style scoped>\n",
       "    .dataframe tbody tr th:only-of-type {\n",
       "        vertical-align: middle;\n",
       "    }\n",
       "\n",
       "    .dataframe tbody tr th {\n",
       "        vertical-align: top;\n",
       "    }\n",
       "\n",
       "    .dataframe thead th {\n",
       "        text-align: right;\n",
       "    }\n",
       "</style>\n",
       "<table border=\"1\" class=\"dataframe\">\n",
       "  <thead>\n",
       "    <tr style=\"text-align: right;\">\n",
       "      <th></th>\n",
       "      <th>Hours_Studied</th>\n",
       "      <th>Attendance</th>\n",
       "      <th>Parental_Involvement</th>\n",
       "      <th>Access_to_Resources</th>\n",
       "      <th>Extracurricular_Activities</th>\n",
       "      <th>Sleep_Hours</th>\n",
       "      <th>Previous_Scores</th>\n",
       "      <th>Motivation_Level</th>\n",
       "      <th>Internet_Access</th>\n",
       "      <th>Tutoring_Sessions</th>\n",
       "      <th>Family_Income</th>\n",
       "      <th>Teacher_Quality</th>\n",
       "      <th>School_Type</th>\n",
       "      <th>Peer_Influence</th>\n",
       "      <th>Physical_Activity</th>\n",
       "      <th>Learning_Disabilities</th>\n",
       "      <th>Parental_Education_Level</th>\n",
       "      <th>Distance_from_Home</th>\n",
       "      <th>Gender</th>\n",
       "    </tr>\n",
       "  </thead>\n",
       "  <tbody>\n",
       "    <tr>\n",
       "      <th>0</th>\n",
       "      <td>10.5</td>\n",
       "      <td>95</td>\n",
       "      <td>High</td>\n",
       "      <td>Medium</td>\n",
       "      <td>Yes</td>\n",
       "      <td>7.5</td>\n",
       "      <td>85.5</td>\n",
       "      <td>Medium</td>\n",
       "      <td>Yes</td>\n",
       "      <td>2</td>\n",
       "      <td>Medium</td>\n",
       "      <td>High</td>\n",
       "      <td>Public</td>\n",
       "      <td>Positive</td>\n",
       "      <td>3.5</td>\n",
       "      <td>No</td>\n",
       "      <td>College</td>\n",
       "      <td>Moderate</td>\n",
       "      <td>Female</td>\n",
       "    </tr>\n",
       "  </tbody>\n",
       "</table>\n",
       "</div>"
      ],
      "text/plain": [
       "   Hours_Studied  Attendance Parental_Involvement Access_to_Resources  \\\n",
       "0           10.5          95                 High              Medium   \n",
       "\n",
       "  Extracurricular_Activities  Sleep_Hours  Previous_Scores Motivation_Level  \\\n",
       "0                        Yes          7.5             85.5           Medium   \n",
       "\n",
       "  Internet_Access  Tutoring_Sessions Family_Income Teacher_Quality  \\\n",
       "0             Yes                  2        Medium            High   \n",
       "\n",
       "  School_Type Peer_Influence  Physical_Activity Learning_Disabilities  \\\n",
       "0      Public       Positive                3.5                    No   \n",
       "\n",
       "  Parental_Education_Level Distance_from_Home  Gender  \n",
       "0                  College           Moderate  Female  "
      ]
     },
     "execution_count": 29,
     "metadata": {},
     "output_type": "execute_result"
    }
   ],
   "source": [
    "features = {\n",
    "    \"Hours_Studied\": 10.5,\n",
    "    \"Attendance\": 95,\n",
    "    \"Parental_Involvement\": \"High\",\n",
    "    \"Access_to_Resources\": \"Medium\",\n",
    "    \"Extracurricular_Activities\": \"Yes\",\n",
    "    \"Sleep_Hours\": 7.5,\n",
    "    \"Previous_Scores\": 85.5,\n",
    "    \"Motivation_Level\": \"Medium\",\n",
    "    \"Internet_Access\": \"Yes\",\n",
    "    \"Tutoring_Sessions\": 2,\n",
    "    \"Family_Income\": \"Medium\",\n",
    "    \"Teacher_Quality\": \"High\",\n",
    "    \"School_Type\": \"Public\",\n",
    "    \"Peer_Influence\": \"Positive\",\n",
    "    \"Physical_Activity\": 3.5,\n",
    "    \"Learning_Disabilities\": \"No\",\n",
    "    \"Parental_Education_Level\": \"College\",\n",
    "    \"Distance_from_Home\": \"Moderate\",\n",
    "    \"Gender\": \"Female\"\n",
    "}\n",
    "input_data = pd.DataFrame([features])\n",
    "input_data\n"
   ]
  },
  {
   "cell_type": "code",
   "execution_count": 38,
   "metadata": {},
   "outputs": [
    {
     "name": "stdout",
     "output_type": "stream",
     "text": [
      "<class 'pandas.core.frame.DataFrame'>\n",
      "RangeIndex: 1 entries, 0 to 0\n",
      "Data columns (total 19 columns):\n",
      " #   Column                      Non-Null Count  Dtype  \n",
      "---  ------                      --------------  -----  \n",
      " 0   Hours_Studied               1 non-null      float64\n",
      " 1   Attendance                  1 non-null      float64\n",
      " 2   Parental_Involvement        1 non-null      float64\n",
      " 3   Access_to_Resources         1 non-null      float64\n",
      " 4   Extracurricular_Activities  1 non-null      float64\n",
      " 5   Sleep_Hours                 1 non-null      float64\n",
      " 6   Previous_Scores             1 non-null      float64\n",
      " 7   Motivation_Level            1 non-null      float64\n",
      " 8   Internet_Access             1 non-null      float64\n",
      " 9   Tutoring_Sessions           1 non-null      float64\n",
      " 10  Family_Income               1 non-null      float64\n",
      " 11  Teacher_Quality             1 non-null      float64\n",
      " 12  School_Type                 1 non-null      float64\n",
      " 13  Peer_Influence              1 non-null      float64\n",
      " 14  Physical_Activity           1 non-null      float64\n",
      " 15  Learning_Disabilities       1 non-null      float64\n",
      " 16  Parental_Education_Level    1 non-null      float64\n",
      " 17  Distance_from_Home          1 non-null      float64\n",
      " 18  Gender                      1 non-null      float64\n",
      "dtypes: float64(19)\n",
      "memory usage: 284.0 bytes\n"
     ]
    }
   ],
   "source": [
    "cat_cols = input_data.select_dtypes(include=['object', 'category']).columns\n",
    "ord_encoder = OrdinalEncoder()\n",
    "input_data.loc[:, cat_cols] = ord_encoder.fit_transform(input_data[cat_cols])\n",
    "input_data = input_data.astype('float64')\n",
    "input_data.info()"
   ]
  },
  {
   "cell_type": "code",
   "execution_count": 40,
   "metadata": {},
   "outputs": [
    {
     "data": {
      "text/plain": [
       "69.47666666666667"
      ]
     },
     "execution_count": 40,
     "metadata": {},
     "output_type": "execute_result"
    }
   ],
   "source": [
    "preds = model.predict(input_data)\n",
    "\n",
    "float(preds[0])"
   ]
  },
  {
   "cell_type": "code",
   "execution_count": null,
   "metadata": {},
   "outputs": [],
   "source": []
  }
 ],
 "metadata": {
  "kernelspec": {
   "display_name": "mlops-student-performance-Zsm4y_dL",
   "language": "python",
   "name": "python3"
  },
  "language_info": {
   "codemirror_mode": {
    "name": "ipython",
    "version": 3
   },
   "file_extension": ".py",
   "mimetype": "text/x-python",
   "name": "python",
   "nbconvert_exporter": "python",
   "pygments_lexer": "ipython3",
   "version": "3.12.1"
  }
 },
 "nbformat": 4,
 "nbformat_minor": 2
}
